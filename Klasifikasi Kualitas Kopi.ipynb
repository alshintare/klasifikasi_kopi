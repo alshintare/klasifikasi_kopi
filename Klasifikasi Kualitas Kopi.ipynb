{
 "cells": [
  {
   "cell_type": "code",
   "execution_count": 19,
   "id": "d7e13773-c87e-4c55-9403-3343069c74a6",
   "metadata": {},
   "outputs": [
    {
     "data": {
      "text/html": [
       "<div>\n",
       "<style scoped>\n",
       "    .dataframe tbody tr th:only-of-type {\n",
       "        vertical-align: middle;\n",
       "    }\n",
       "\n",
       "    .dataframe tbody tr th {\n",
       "        vertical-align: top;\n",
       "    }\n",
       "\n",
       "    .dataframe thead th {\n",
       "        text-align: right;\n",
       "    }\n",
       "</style>\n",
       "<table border=\"1\" class=\"dataframe\">\n",
       "  <thead>\n",
       "    <tr style=\"text-align: right;\">\n",
       "      <th></th>\n",
       "      <th>Kadar Kafein</th>\n",
       "      <th>Tingkat Keasaman</th>\n",
       "      <th>Jenis Proses</th>\n",
       "      <th>Kualitas Kopi</th>\n",
       "    </tr>\n",
       "  </thead>\n",
       "  <tbody>\n",
       "    <tr>\n",
       "      <th>0</th>\n",
       "      <td>71.676050</td>\n",
       "      <td>4.505419</td>\n",
       "      <td>Honey</td>\n",
       "      <td>Buruk</td>\n",
       "    </tr>\n",
       "    <tr>\n",
       "      <th>1</th>\n",
       "      <td>89.899105</td>\n",
       "      <td>4.777716</td>\n",
       "      <td>Honey</td>\n",
       "      <td>Buruk</td>\n",
       "    </tr>\n",
       "    <tr>\n",
       "      <th>2</th>\n",
       "      <td>101.782740</td>\n",
       "      <td>5.987926</td>\n",
       "      <td>Washed</td>\n",
       "      <td>Sedang</td>\n",
       "    </tr>\n",
       "    <tr>\n",
       "      <th>3</th>\n",
       "      <td>112.958351</td>\n",
       "      <td>5.145615</td>\n",
       "      <td>Natural</td>\n",
       "      <td>Baik</td>\n",
       "    </tr>\n",
       "    <tr>\n",
       "      <th>4</th>\n",
       "      <td>68.571363</td>\n",
       "      <td>4.934300</td>\n",
       "      <td>Honey</td>\n",
       "      <td>Buruk</td>\n",
       "    </tr>\n",
       "    <tr>\n",
       "      <th>...</th>\n",
       "      <td>...</td>\n",
       "      <td>...</td>\n",
       "      <td>...</td>\n",
       "      <td>...</td>\n",
       "    </tr>\n",
       "    <tr>\n",
       "      <th>295</th>\n",
       "      <td>105.346259</td>\n",
       "      <td>5.511636</td>\n",
       "      <td>Washed</td>\n",
       "      <td>Sedang</td>\n",
       "    </tr>\n",
       "    <tr>\n",
       "      <th>296</th>\n",
       "      <td>114.917455</td>\n",
       "      <td>5.150439</td>\n",
       "      <td>Natural</td>\n",
       "      <td>Baik</td>\n",
       "    </tr>\n",
       "    <tr>\n",
       "      <th>297</th>\n",
       "      <td>99.558838</td>\n",
       "      <td>5.612135</td>\n",
       "      <td>Washed</td>\n",
       "      <td>Sedang</td>\n",
       "    </tr>\n",
       "    <tr>\n",
       "      <th>298</th>\n",
       "      <td>88.621531</td>\n",
       "      <td>4.803087</td>\n",
       "      <td>Honey</td>\n",
       "      <td>Buruk</td>\n",
       "    </tr>\n",
       "    <tr>\n",
       "      <th>299</th>\n",
       "      <td>98.192872</td>\n",
       "      <td>5.504599</td>\n",
       "      <td>Washed</td>\n",
       "      <td>Sedang</td>\n",
       "    </tr>\n",
       "  </tbody>\n",
       "</table>\n",
       "<p>300 rows × 4 columns</p>\n",
       "</div>"
      ],
      "text/plain": [
       "     Kadar Kafein  Tingkat Keasaman Jenis Proses Kualitas Kopi\n",
       "0       71.676050          4.505419        Honey         Buruk\n",
       "1       89.899105          4.777716        Honey         Buruk\n",
       "2      101.782740          5.987926       Washed        Sedang\n",
       "3      112.958351          5.145615      Natural          Baik\n",
       "4       68.571363          4.934300        Honey         Buruk\n",
       "..            ...               ...          ...           ...\n",
       "295    105.346259          5.511636       Washed        Sedang\n",
       "296    114.917455          5.150439      Natural          Baik\n",
       "297     99.558838          5.612135       Washed        Sedang\n",
       "298     88.621531          4.803087        Honey         Buruk\n",
       "299     98.192872          5.504599       Washed        Sedang\n",
       "\n",
       "[300 rows x 4 columns]"
      ]
     },
     "execution_count": 19,
     "metadata": {},
     "output_type": "execute_result"
    }
   ],
   "source": [
    "import pandas as pd\n",
    "\n",
    "df = pd.read_csv(\"dataset_kualitas_kopi.csv\")\n",
    "df"
   ]
  },
  {
   "cell_type": "code",
   "execution_count": 5,
   "id": "0fbe41ec-565c-481f-8537-fde471608954",
   "metadata": {},
   "outputs": [
    {
     "data": {
      "text/plain": [
       "(300, 4)"
      ]
     },
     "execution_count": 5,
     "metadata": {},
     "output_type": "execute_result"
    }
   ],
   "source": [
    "df.shape"
   ]
  },
  {
   "cell_type": "code",
   "execution_count": 6,
   "id": "0e3cc95b-9ec7-41f3-b393-493837c61d56",
   "metadata": {},
   "outputs": [
    {
     "data": {
      "text/plain": [
       "Index(['Kadar Kafein', 'Tingkat Keasaman', 'Jenis Proses', 'Kualitas Kopi'], dtype='object')"
      ]
     },
     "execution_count": 6,
     "metadata": {},
     "output_type": "execute_result"
    }
   ],
   "source": [
    "df.columns"
   ]
  },
  {
   "cell_type": "code",
   "execution_count": 7,
   "id": "adedbe5b-e0fa-4f05-a5bc-68b9b7f86b59",
   "metadata": {},
   "outputs": [
    {
     "data": {
      "text/plain": [
       "Kadar Kafein        float64\n",
       "Tingkat Keasaman    float64\n",
       "Jenis Proses         object\n",
       "Kualitas Kopi        object\n",
       "dtype: object"
      ]
     },
     "execution_count": 7,
     "metadata": {},
     "output_type": "execute_result"
    }
   ],
   "source": [
    "df.dtypes"
   ]
  },
  {
   "cell_type": "code",
   "execution_count": 10,
   "id": "e0a31ba5-3ac4-433e-b443-549c3be08696",
   "metadata": {},
   "outputs": [
    {
     "name": "stdout",
     "output_type": "stream",
     "text": [
      "<class 'pandas.core.frame.DataFrame'>\n",
      "RangeIndex: 300 entries, 0 to 299\n",
      "Data columns (total 4 columns):\n",
      " #   Column            Non-Null Count  Dtype  \n",
      "---  ------            --------------  -----  \n",
      " 0   Kadar Kafein      300 non-null    float64\n",
      " 1   Tingkat Keasaman  300 non-null    float64\n",
      " 2   Jenis Proses      300 non-null    object \n",
      " 3   Kualitas Kopi     300 non-null    object \n",
      "dtypes: float64(2), object(2)\n",
      "memory usage: 9.5+ KB\n"
     ]
    }
   ],
   "source": [
    "df.info()"
   ]
  },
  {
   "cell_type": "code",
   "execution_count": 11,
   "id": "1051f13f-5519-43b2-9e7c-50a8d3b876b7",
   "metadata": {},
   "outputs": [
    {
     "data": {
      "text/html": [
       "<div>\n",
       "<style scoped>\n",
       "    .dataframe tbody tr th:only-of-type {\n",
       "        vertical-align: middle;\n",
       "    }\n",
       "\n",
       "    .dataframe tbody tr th {\n",
       "        vertical-align: top;\n",
       "    }\n",
       "\n",
       "    .dataframe thead th {\n",
       "        text-align: right;\n",
       "    }\n",
       "</style>\n",
       "<table border=\"1\" class=\"dataframe\">\n",
       "  <thead>\n",
       "    <tr style=\"text-align: right;\">\n",
       "      <th></th>\n",
       "      <th>Kadar Kafein</th>\n",
       "      <th>Tingkat Keasaman</th>\n",
       "    </tr>\n",
       "  </thead>\n",
       "  <tbody>\n",
       "    <tr>\n",
       "      <th>count</th>\n",
       "      <td>300.000000</td>\n",
       "      <td>300.000000</td>\n",
       "    </tr>\n",
       "    <tr>\n",
       "      <th>mean</th>\n",
       "      <td>94.880478</td>\n",
       "      <td>5.255010</td>\n",
       "    </tr>\n",
       "    <tr>\n",
       "      <th>std</th>\n",
       "      <td>18.612343</td>\n",
       "      <td>0.423348</td>\n",
       "    </tr>\n",
       "    <tr>\n",
       "      <th>min</th>\n",
       "      <td>60.340609</td>\n",
       "      <td>4.505419</td>\n",
       "    </tr>\n",
       "    <tr>\n",
       "      <th>25%</th>\n",
       "      <td>80.885090</td>\n",
       "      <td>4.912739</td>\n",
       "    </tr>\n",
       "    <tr>\n",
       "      <th>50%</th>\n",
       "      <td>96.469407</td>\n",
       "      <td>5.249464</td>\n",
       "    </tr>\n",
       "    <tr>\n",
       "      <th>75%</th>\n",
       "      <td>108.570401</td>\n",
       "      <td>5.622462</td>\n",
       "    </tr>\n",
       "    <tr>\n",
       "      <th>max</th>\n",
       "      <td>129.569514</td>\n",
       "      <td>5.995027</td>\n",
       "    </tr>\n",
       "  </tbody>\n",
       "</table>\n",
       "</div>"
      ],
      "text/plain": [
       "       Kadar Kafein  Tingkat Keasaman\n",
       "count    300.000000        300.000000\n",
       "mean      94.880478          5.255010\n",
       "std       18.612343          0.423348\n",
       "min       60.340609          4.505419\n",
       "25%       80.885090          4.912739\n",
       "50%       96.469407          5.249464\n",
       "75%      108.570401          5.622462\n",
       "max      129.569514          5.995027"
      ]
     },
     "execution_count": 11,
     "metadata": {},
     "output_type": "execute_result"
    }
   ],
   "source": [
    "df.describe()"
   ]
  },
  {
   "cell_type": "code",
   "execution_count": 12,
   "id": "e1b65d34-733b-4bad-8223-7e3e9d86f4b3",
   "metadata": {},
   "outputs": [
    {
     "data": {
      "text/html": [
       "<div>\n",
       "<style scoped>\n",
       "    .dataframe tbody tr th:only-of-type {\n",
       "        vertical-align: middle;\n",
       "    }\n",
       "\n",
       "    .dataframe tbody tr th {\n",
       "        vertical-align: top;\n",
       "    }\n",
       "\n",
       "    .dataframe thead th {\n",
       "        text-align: right;\n",
       "    }\n",
       "</style>\n",
       "<table border=\"1\" class=\"dataframe\">\n",
       "  <thead>\n",
       "    <tr style=\"text-align: right;\">\n",
       "      <th></th>\n",
       "      <th>Kadar Kafein</th>\n",
       "      <th>Tingkat Keasaman</th>\n",
       "      <th>Jenis Proses</th>\n",
       "      <th>Kualitas Kopi</th>\n",
       "    </tr>\n",
       "  </thead>\n",
       "  <tbody>\n",
       "    <tr>\n",
       "      <th>0</th>\n",
       "      <td>71.676050</td>\n",
       "      <td>4.505419</td>\n",
       "      <td>Honey</td>\n",
       "      <td>Buruk</td>\n",
       "    </tr>\n",
       "    <tr>\n",
       "      <th>1</th>\n",
       "      <td>89.899105</td>\n",
       "      <td>4.777716</td>\n",
       "      <td>Honey</td>\n",
       "      <td>Buruk</td>\n",
       "    </tr>\n",
       "    <tr>\n",
       "      <th>2</th>\n",
       "      <td>101.782740</td>\n",
       "      <td>5.987926</td>\n",
       "      <td>Washed</td>\n",
       "      <td>Sedang</td>\n",
       "    </tr>\n",
       "    <tr>\n",
       "      <th>3</th>\n",
       "      <td>112.958351</td>\n",
       "      <td>5.145615</td>\n",
       "      <td>Natural</td>\n",
       "      <td>Baik</td>\n",
       "    </tr>\n",
       "    <tr>\n",
       "      <th>4</th>\n",
       "      <td>68.571363</td>\n",
       "      <td>4.934300</td>\n",
       "      <td>Honey</td>\n",
       "      <td>Buruk</td>\n",
       "    </tr>\n",
       "  </tbody>\n",
       "</table>\n",
       "</div>"
      ],
      "text/plain": [
       "   Kadar Kafein  Tingkat Keasaman Jenis Proses Kualitas Kopi\n",
       "0     71.676050          4.505419        Honey         Buruk\n",
       "1     89.899105          4.777716        Honey         Buruk\n",
       "2    101.782740          5.987926       Washed        Sedang\n",
       "3    112.958351          5.145615      Natural          Baik\n",
       "4     68.571363          4.934300        Honey         Buruk"
      ]
     },
     "execution_count": 12,
     "metadata": {},
     "output_type": "execute_result"
    }
   ],
   "source": [
    "df.head()"
   ]
  },
  {
   "cell_type": "code",
   "execution_count": 13,
   "id": "82b6bc0f-98a8-427a-8067-717da0d8f683",
   "metadata": {},
   "outputs": [
    {
     "data": {
      "text/html": [
       "<div>\n",
       "<style scoped>\n",
       "    .dataframe tbody tr th:only-of-type {\n",
       "        vertical-align: middle;\n",
       "    }\n",
       "\n",
       "    .dataframe tbody tr th {\n",
       "        vertical-align: top;\n",
       "    }\n",
       "\n",
       "    .dataframe thead th {\n",
       "        text-align: right;\n",
       "    }\n",
       "</style>\n",
       "<table border=\"1\" class=\"dataframe\">\n",
       "  <thead>\n",
       "    <tr style=\"text-align: right;\">\n",
       "      <th></th>\n",
       "      <th>Kadar Kafein</th>\n",
       "      <th>Tingkat Keasaman</th>\n",
       "      <th>Jenis Proses</th>\n",
       "      <th>Kualitas Kopi</th>\n",
       "    </tr>\n",
       "  </thead>\n",
       "  <tbody>\n",
       "    <tr>\n",
       "      <th>295</th>\n",
       "      <td>105.346259</td>\n",
       "      <td>5.511636</td>\n",
       "      <td>Washed</td>\n",
       "      <td>Sedang</td>\n",
       "    </tr>\n",
       "    <tr>\n",
       "      <th>296</th>\n",
       "      <td>114.917455</td>\n",
       "      <td>5.150439</td>\n",
       "      <td>Natural</td>\n",
       "      <td>Baik</td>\n",
       "    </tr>\n",
       "    <tr>\n",
       "      <th>297</th>\n",
       "      <td>99.558838</td>\n",
       "      <td>5.612135</td>\n",
       "      <td>Washed</td>\n",
       "      <td>Sedang</td>\n",
       "    </tr>\n",
       "    <tr>\n",
       "      <th>298</th>\n",
       "      <td>88.621531</td>\n",
       "      <td>4.803087</td>\n",
       "      <td>Honey</td>\n",
       "      <td>Buruk</td>\n",
       "    </tr>\n",
       "    <tr>\n",
       "      <th>299</th>\n",
       "      <td>98.192872</td>\n",
       "      <td>5.504599</td>\n",
       "      <td>Washed</td>\n",
       "      <td>Sedang</td>\n",
       "    </tr>\n",
       "  </tbody>\n",
       "</table>\n",
       "</div>"
      ],
      "text/plain": [
       "     Kadar Kafein  Tingkat Keasaman Jenis Proses Kualitas Kopi\n",
       "295    105.346259          5.511636       Washed        Sedang\n",
       "296    114.917455          5.150439      Natural          Baik\n",
       "297     99.558838          5.612135       Washed        Sedang\n",
       "298     88.621531          4.803087        Honey         Buruk\n",
       "299     98.192872          5.504599       Washed        Sedang"
      ]
     },
     "execution_count": 13,
     "metadata": {},
     "output_type": "execute_result"
    }
   ],
   "source": [
    "df.tail()"
   ]
  },
  {
   "cell_type": "code",
   "execution_count": 15,
   "id": "95a5a032-73e7-49fd-ae06-625a07c6b144",
   "metadata": {},
   "outputs": [
    {
     "data": {
      "text/plain": [
       "Jenis Proses\n",
       "Natural    103\n",
       "Honey      101\n",
       "Washed      96\n",
       "Name: count, dtype: int64"
      ]
     },
     "execution_count": 15,
     "metadata": {},
     "output_type": "execute_result"
    }
   ],
   "source": [
    "df[\"Jenis Proses\"].value_counts()"
   ]
  },
  {
   "cell_type": "code",
   "execution_count": 16,
   "id": "d27b09ec-a83a-40b0-9c00-4cfaff28c615",
   "metadata": {},
   "outputs": [
    {
     "data": {
      "text/plain": [
       "Kualitas Kopi\n",
       "Baik      103\n",
       "Buruk      99\n",
       "Sedang     98\n",
       "Name: count, dtype: int64"
      ]
     },
     "execution_count": 16,
     "metadata": {},
     "output_type": "execute_result"
    }
   ],
   "source": [
    "df[\"Kualitas Kopi\"].value_counts()"
   ]
  },
  {
   "cell_type": "code",
   "execution_count": 23,
   "id": "0da6d240-698f-4055-ab76-7167eede564f",
   "metadata": {},
   "outputs": [
    {
     "data": {
      "image/png": "[encoded data removed]",
      "text/plain": [
       "<Figure size 600x500 with 1 Axes>"
      ]
     },
     "metadata": {},
     "output_type": "display_data"
    }
   ],
   "source": [
    "import matplotlib.pyplot as plt\n",
    "baik = df[df[\"Kualitas Kopi\"]==\"Baik\"]\n",
    "sedang = df[df[\"Kualitas Kopi\"]==\"Sedang\"]\n",
    "buruk = df[df[\"Kualitas Kopi\"]==\"Buruk\"]\n",
    "\n",
    "plt.figure(figsize=(6,5))\n",
    "\n",
    "plt.scatter(baik[\"Kadar Kafein\"], baik[\"Tingkat Keasaman\"], s=100, alpha=0.7, color=\"green\", label=\"Baik\", marker=\"*\")\n",
    "plt.scatter(sedang[\"Kadar Kafein\"], sedang[\"Tingkat Keasaman\"], s=100, alpha=0.7, color=\"orange\", label=\"Sedang\",)\n",
    "plt.scatter(buruk[\"Kadar Kafein\"], buruk[\"Tingkat Keasaman\"], s=100, alpha=0.7, color=\"red\", label=\"Buruk\", marker=\"^\")\n",
    "\n",
    "plt.xlabel(\"Kadar Kafein\")\n",
    "plt.ylabel(\"Tingkat Keasaman\")\n",
    "plt.title(\"Kadar Kafein vs Tingkat Keasaman\")\n",
    "plt.legend()\n",
    "plt.grid(True, linestyle=\"--\", alpha=0.5)\n",
    "plt.show()"
   ]
  },
  {
   "cell_type": "code",
   "execution_count": 38,
   "id": "cd7801df-e999-44f9-a949-78f47af187d1",
   "metadata": {},
   "outputs": [
    {
     "name": "stdout",
     "output_type": "stream",
     "text": [
      "Akurasi : 0.9666666666666667\n",
      "\n",
      "Classification Report\n",
      "               precision    recall  f1-score   support\n",
      "\n",
      "        Baik       1.00      0.94      0.97        18\n",
      "       Buruk       0.96      1.00      0.98        26\n",
      "      Sedang       0.94      0.94      0.94        16\n",
      "\n",
      "    accuracy                           0.97        60\n",
      "   macro avg       0.97      0.96      0.96        60\n",
      "weighted avg       0.97      0.97      0.97        60\n",
      "\n",
      "\n",
      "Confusion Matrix\n",
      " [[17  0  1]\n",
      " [ 0 26  0]\n",
      " [ 0  1 15]]\n"
     ]
    }
   ],
   "source": [
    "# 'siapkan alatnya'\n",
    "from sklearn.linear_model import LogisticRegression\n",
    "from sklearn.model_selection import train_test_split\n",
    "from sklearn.metrics import accuracy_score, classification_report, confusion_matrix\n",
    "from sklearn.preprocessing import StandardScaler, OneHotEncoder\n",
    "from sklearn.pipeline import Pipeline\n",
    "from sklearn.compose import ColumnTransformer\n",
    "\n",
    "# 'siapkan bahannya'\n",
    "X = df[[\"Kadar Kafein\",\"Tingkat Keasaman\",\"Jenis Proses\"]]\n",
    "y = df[\"Kualitas Kopi\"]\n",
    "\n",
    "# 'pisahkan dataset untuk train dan test'\n",
    "X_train, X_test, y_train, y_test = train_test_split(\n",
    "    X, y, test_size=0.2, random_state=42\n",
    ")\n",
    "\n",
    "#'tuliskan kolom angka dan kategorinya apa saja'\n",
    "numeric_columns = [\"Kadar Kafein\",\"Tingkat Keasaman\"]\n",
    "categorical_columns = [\"Jenis Proses\"]\n",
    "\n",
    "# 'siapkan pemrosesan awal (preprocessing)'\n",
    "preprocessing = ColumnTransformer(\n",
    "    transformers=[\n",
    "        (\"scaler\", StandardScaler(), numeric_columns),\n",
    "        (\"ohe\", OneHotEncoder(), categorical_columns)\n",
    "    ]\n",
    ")\n",
    "\n",
    "# 'siapkan pipeline'\n",
    "model = Pipeline(\n",
    "    steps=[\n",
    "        (\"preprocessing\", preprocessing),\n",
    "        (\"model\", LogisticRegression()),\n",
    "    ]\n",
    ")\n",
    "\n",
    "# 'suruh model a.k.a otak untuk belajar'\n",
    "model.fit(X_train, y_train)\n",
    "\n",
    "# 'suruh otak ulangan, catat hasil jawabannya'\n",
    "y_pred = model.predict(X_test)\n",
    "\n",
    "# 'bandingkan kunci jawaban dengan jawaban otak'\n",
    "print(\"Akurasi :\", accuracy_score(y_test, y_pred))\n",
    "\n",
    "print(\"\\nClassification Report\\n\", classification_report(y_test, y_pred))\n",
    "\n",
    "print(\"\\nConfusion Matrix\\n\", confusion_matrix(y_test, y_pred))"
   ]
  },
  {
   "cell_type": "code",
   "execution_count": 39,
   "id": "a7721e79-1115-4331-a33e-77fef0f49e5b",
   "metadata": {},
   "outputs": [
    {
     "name": "stdout",
     "output_type": "stream",
     "text": [
      "Prediksi Baik dengan tingkat keyakinan 51.12%\n"
     ]
    }
   ],
   "source": [
    "data_baru = pd.DataFrame([[110, 4.5, \"Honey\"]],columns=[\"Kadar Kafein\",\"Tingkat Keasaman\",\"Jenis Proses\"])\n",
    "prediksi = model.predict(data_baru)[0]\n",
    "presentase = max(model.predict_proba(data_baru)[0])\n",
    "print(f\"Prediksi {prediksi} dengan tingkat keyakinan {presentase*100:.2f}%\")"
   ]
  },
  {
   "cell_type": "code",
   "execution_count": 42,
   "id": "cd4ab25a-0d10-4167-9e5d-77d49c52b687",
   "metadata": {},
   "outputs": [
    {
     "data": {
      "text/plain": [
       "['model_klasifikasi_kualitas_kopi.joblib']"
      ]
     },
     "execution_count": 42,
     "metadata": {},
     "output_type": "execute_result"
    }
   ],
   "source": [
    "import joblib \n",
    "\n",
    "joblib.dump(model, \"model_klasifikasi_kualitas_kopi.joblib\")"
   ]
  }
 ],
 "metadata": {
  "kernelspec": {
   "display_name": "Python 3 (ipykernel)",
   "language": "python",
   "name": "python3"
  },
  "language_info": {
   "codemirror_mode": {
    "name": "ipython",
    "version": 3
   },
   "file_extension": ".py",
   "mimetype": "text/x-python",
   "name": "python",
   "nbconvert_exporter": "python",
   "pygments_lexer": "ipython3",
   "version": "3.13.5"
  }
 },
 "nbformat": 4,
 "nbformat_minor": 5
}
